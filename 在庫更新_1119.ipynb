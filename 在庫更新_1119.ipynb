{
 "cells": [
  {
   "cell_type": "code",
   "execution_count": 1,
   "id": "24a15cae",
   "metadata": {
    "colab": {
     "base_uri": "https://localhost:8080/"
    },
    "executionInfo": {
     "elapsed": 22764,
     "status": "ok",
     "timestamp": 1668324330895,
     "user": {
      "displayName": "高柳みつき",
      "userId": "12829001157660861276"
     },
     "user_tz": -540
    },
    "id": "24a15cae",
    "outputId": "5d3efa49-045c-4a8b-b39d-4ff949b5cd27"
   },
   "outputs": [
    {
     "name": "stdout",
     "output_type": "stream",
     "text": [
      "Mounted at /content/gdrive\n"
     ]
    }
   ],
   "source": [
    "#Google Driveのマウント\n",
    "from google.colab import drive\n",
    "drive.mount('/content/gdrive')"
   ]
  },
  {
   "cell_type": "code",
   "execution_count": 2,
   "id": "bPSuS7SnuAUZ",
   "metadata": {
    "executionInfo": {
     "elapsed": 4,
     "status": "ok",
     "timestamp": 1668324330896,
     "user": {
      "displayName": "高柳みつき",
      "userId": "12829001157660861276"
     },
     "user_tz": -540
    },
    "id": "bPSuS7SnuAUZ"
   },
   "outputs": [],
   "source": [
    "path = '/content/gdrive/MyDrive/プログラミング用フォルダ/ヤフショ用python/在庫更新分割'"
   ]
  },
  {
   "cell_type": "code",
   "execution_count": 5,
   "id": "005f7ece",
   "metadata": {
    "colab": {
     "base_uri": "https://localhost:8080/"
    },
    "executionInfo": {
     "elapsed": 1736,
     "status": "ok",
     "timestamp": 1668324567740,
     "user": {
      "displayName": "高柳みつき",
      "userId": "12829001157660861276"
     },
     "user_tz": -540
    },
    "id": "005f7ece",
    "outputId": "14d5c315-15a9-4354-997d-58aa760ecef9",
    "scrolled": true
   },
   "outputs": [
    {
     "name": "stdout",
     "output_type": "stream",
     "text": [
      "40.9\n",
      "/content/gdrive/MyDrive/プログラミング用フォルダ/ヤフショ用python/在庫更新分割/在庫csv/PRIMA_JAPAN_221113_153857_ASIN List2.txt.csv\n"
     ]
    }
   ],
   "source": [
    "#モジュールのインポート\n",
    "import os\n",
    "import shutil\n",
    "import glob\n",
    "import pandas as pd\n",
    "import numpy as np\n",
    "\n",
    "#設定\n",
    "delivery_line = 921 #送料ライン\n",
    "low_price = 1498 #最低価格\n",
    "delivery = 100 #国内配送料\n",
    "profit_rate_nomal = 1.15 #利益率\n",
    "profit_rate_sale = 1.2 #利益率\n",
    "tax = 1.04 #関税・消費税\n",
    "commission = 1-0.08 #手数料\n",
    "\n",
    "# #ファイルの読み込み\n",
    "# file_path = glob.glob('./在庫csv/*txt.csv')[-1]\n",
    "file_path = glob.glob(os.path.join(path,'在庫csv/*txt.csv'))[-1]\n",
    "df = pd.read_csv(file_path, encoding=\"shift_jis\")\n",
    "\n",
    "#価格の計算\n",
    "fba = df['最安値[FBA]']\n",
    "df.loc[(fba != 0) & (fba > delivery_line) , 'price'] = (\n",
    "    (((fba*profit_rate_nomal*tax+delivery)/commission)//100*100))\n",
    "\n",
    "df.loc[(df['price'] > low_price) & (df['price'] < 9998), 'price'] = (\n",
    "    df['price']+(1-df['price']//100%2)*100+98)\n",
    "\n",
    "df.loc[df['price'] > 9998, 'price'] = (\n",
    "    df['price']//1000*1000+(1-df['price']//1000%2)*1000+980)\n",
    "\n",
    "df.loc[df['price'] < 1598, 'price'] = 1598\n",
    "df.loc[(fba <= 921) & (fba != 0), 'price'] = low_price\n",
    "df.loc[fba == 0, 'price'] = 0\n",
    "\n",
    "df['sale-price'] = ''\n",
    "df['sale-period-start'] = ''\n",
    "df['sale-period-end'] = ''\n",
    "\n",
    "\n",
    "#小文字kk00化\n",
    "ser_code = df['ASIN'].str.lower() + ('kk00')\n",
    "ser_price = df['price'].astype('int')\n",
    "ser_sale_price = df['sale-price']\n",
    "ser_sale_period_start = df['sale-period-start']\n",
    "ser_sale_period_end = df['sale-period-end']\n",
    "\n",
    "\n",
    "\n",
    "#series作成\n",
    "df_00 = pd.DataFrame(data={\n",
    "    'code':ser_code,\n",
    "    'price':ser_price,\n",
    "    'sale-price':ser_sale_price,\n",
    "    'sale-period-start':ser_sale_period_start,\n",
    "    'sale-period-end':ser_sale_period_end\n",
    "})\n",
    "\n",
    "df_00.loc[df_00['price'] == 0, 'display'] = 0\n",
    "df_00.loc[df_00['price'] != 0, 'display'] = 1\n",
    "ser_display = df_00['display'].astype('int')\n",
    "df_00.loc[df_00['price'] == 0, 'lead-time-instock'] = 3\n",
    "df_00.loc[df_00['price'] != 0, 'lead-time-instock'] = 1\n",
    "ser_lead_time_instock = df_00['lead-time-instock'].astype('int')\n",
    "#送料あり[3]、送料なし[1]\n",
    "df_00.loc[df_00['price'] <= 1499, 'delivery'] = 3\n",
    "df_00.loc[df_00['price'] > 1499, 'delivery'] = 1\n",
    "ser_delivery = df_00['delivery'].astype('int')\n",
    "\n",
    "\n",
    "#DataFrame作成\n",
    "df_01 = pd.DataFrame(data={\n",
    "    'code':ser_code,\n",
    "    'price':ser_price,\n",
    "    'sale-price':ser_sale_price,\n",
    "    'sale-period-start':ser_sale_period_start,\n",
    "    'sale-period-end':ser_sale_period_end,\n",
    "    'display':ser_display,\n",
    "    'lead-time-instock':ser_lead_time_instock,\n",
    "    'delivery':ser_delivery\n",
    "})\n",
    "\n",
    "\n",
    "#0の空白化\n",
    "df_01.loc[df_00['price'] == 0, 'price'] = ''\n",
    "\n",
    "\n",
    "# #ファイス分割\n",
    "# for i in range(len(df_01)//100000+1):\n",
    "#     df_01[(i+1)*100000-100000:(i+1)*100000].to_csv(\n",
    "#         path_or_buf=f'./分割ファイル/{i+71}_価格変更.csv', \n",
    "#         index=False, encoding=\"shift_jis\")\n",
    "\n",
    "#ファイス分割\n",
    "for i in range(len(df_01)//100000+1):\n",
    "    df_01[(i+1)*100000-100000:(i+1)*100000].to_csv(\n",
    "        path_or_buf=f'{path}/分割ファイル/{i+71}_価格変更.csv', \n",
    "        index=False, encoding=\"shift_jis\")\n",
    "    \n",
    "\n",
    "#在庫切れの割合表示\n",
    "df_bool = (df['最安値[FBA]'] == 0)\n",
    "zaikogire_ritu = df_bool.sum()/len(df_bool)*100\n",
    "print(f'{zaikogire_ritu:.1f}')\n",
    "print(file_path)\n",
    "\n",
    "\n",
    "df_quan = pd.DataFrame(data={\n",
    "    'code':ser_code,\n",
    "    'quantity':3\n",
    "    })\n",
    "\n",
    "#ファイス分割\n",
    "for i in range(len(df_quan)//100000+1):\n",
    "    df_quan[(i+1)*100000-100000:(i+1)*100000].to_csv(\n",
    "        path_or_buf=f'{path}/分割ファイル/{i+91}_在庫設定.csv', \n",
    "        index=False, encoding=\"shift_jis\")"
   ]
  },
  {
   "cell_type": "code",
   "execution_count": null,
   "id": "DVr4LIGAt_Vf",
   "metadata": {
    "executionInfo": {
     "elapsed": 4,
     "status": "aborted",
     "timestamp": 1668324333794,
     "user": {
      "displayName": "高柳みつき",
      "userId": "12829001157660861276"
     },
     "user_tz": -540
    },
    "id": "DVr4LIGAt_Vf"
   },
   "outputs": [],
   "source": [
    "STOP"
   ]
  },
  {
   "cell_type": "code",
   "execution_count": null,
   "id": "d6c50c42",
   "metadata": {
    "executionInfo": {
     "elapsed": 4,
     "status": "aborted",
     "timestamp": 1668324333794,
     "user": {
      "displayName": "高柳みつき",
      "userId": "12829001157660861276"
     },
     "user_tz": -540
    },
    "id": "d6c50c42"
   },
   "outputs": [],
   "source": [
    "#在庫切れのみ\n",
    "\n",
    "\n",
    "#モジュールのインポート\n",
    "import os\n",
    "import shutil\n",
    "import glob\n",
    "import pandas as pd\n",
    "import numpy as np\n",
    "\n",
    "#設定\n",
    "delivery_line = 921 #送料ライン\n",
    "low_price = 1498 #最低価格\n",
    "delivery = 100 #国内配送料\n",
    "profit_rate_nomal = 1.15 #利益率\n",
    "profit_rate_sale = 1.2 #利益率\n",
    "tax = 1.04 #関税・消費税\n",
    "commission = 1-0.08 #手数料\n",
    "\n",
    "#ファイルの読み込み\n",
    "file_path = glob.glob('./在庫csv/*txt.csv')[-1]\n",
    "df = pd.read_csv(file_path, encoding=\"shift_jis\")\n",
    "\n",
    "df = df[df['最安値[FBA]'] == 0]\n",
    "\n",
    "#価格の計算\n",
    "fba = df['最安値[FBA]']\n",
    "df.loc[(fba != 0) & (fba > delivery_line) , 'price'] = (\n",
    "    (((fba*profit_rate_nomal*tax+delivery)/commission)//100*100))\n",
    "\n",
    "df.loc[(df['price'] > low_price) & (df['price'] < 9998), 'price'] = (\n",
    "    df['price']+(1-df['price']//100%2)*100+98)\n",
    "\n",
    "df.loc[df['price'] > 9998, 'price'] = (\n",
    "    df['price']//1000*1000+(1-df['price']//1000%2)*1000+980)\n",
    "\n",
    "df.loc[df['price'] < 1598, 'price'] = 1598\n",
    "df.loc[(fba <= 921) & (fba != 0), 'price'] = low_price\n",
    "df.loc[fba == 0, 'price'] = 0\n",
    "\n",
    "df['sale-price'] = ''\n",
    "df['sale-period-start'] = ''\n",
    "df['sale-period-end'] = ''\n",
    "\n",
    "\n",
    "#小文字kk00化\n",
    "ser_code = df['ASIN'].str.lower() + ('kk00')\n",
    "ser_price = df['price'].astype('int')\n",
    "ser_sale_price = df['sale-price']\n",
    "ser_sale_period_start = df['sale-period-start']\n",
    "ser_sale_period_end = df['sale-period-end']\n",
    "\n",
    "\n",
    "\n",
    "#series作成\n",
    "df_00 = pd.DataFrame(data={\n",
    "    'code':ser_code,\n",
    "    'price':ser_price,\n",
    "    'sale-price':ser_sale_price,\n",
    "    'sale-period-start':ser_sale_period_start,\n",
    "    'sale-period-end':ser_sale_period_end\n",
    "})\n",
    "\n",
    "df_00.loc[df_00['price'] == 0, 'display'] = 0\n",
    "df_00.loc[df_00['price'] != 0, 'display'] = 1\n",
    "ser_display = df_00['display'].astype('int')\n",
    "df_00.loc[df_00['price'] == 0, 'lead-time-instock'] = 3\n",
    "df_00.loc[df_00['price'] != 0, 'lead-time-instock'] = 1\n",
    "ser_lead_time_instock = df_00['lead-time-instock'].astype('int')\n",
    "#送料あり[3]、送料なし[1]\n",
    "df_00.loc[df_00['price'] <= 1499, 'delivery'] = 3\n",
    "df_00.loc[df_00['price'] > 1499, 'delivery'] = 1\n",
    "ser_delivery = df_00['delivery'].astype('int')\n",
    "\n",
    "\n",
    "#DataFrame作成\n",
    "df_01 = pd.DataFrame(data={\n",
    "    'code':ser_code,\n",
    "    'price':ser_price,\n",
    "    'sale-price':ser_sale_price,\n",
    "    'sale-period-start':ser_sale_period_start,\n",
    "    'sale-period-end':ser_sale_period_end,\n",
    "    'display':ser_display,\n",
    "    'lead-time-instock':ser_lead_time_instock,\n",
    "    'delivery':ser_delivery\n",
    "})\n",
    "\n",
    "\n",
    "#0の空白化\n",
    "df_01.loc[df_00['price'] == 0, 'price'] = ''\n",
    "\n",
    "\n",
    "#ファイス分割\n",
    "for i in range(len(df_01)//100000+1):\n",
    "    df_01[(i+1)*100000-100000:(i+1)*100000].to_csv(\n",
    "        path_or_buf=f'./分割ファイル/変更_{i+1}.csv', \n",
    "        index=False, encoding=\"shift_jis\")\n",
    "    \n",
    "\n",
    "#在庫切れの割合表示\n",
    "df_bool = (df['最安値[FBA]'] == 0)\n",
    "zaikogire_ritu = df_bool.sum()/len(df_bool)*100\n",
    "print(f'{zaikogire_ritu:.1f}')\n",
    "print(file_path)\n",
    "\n",
    "\n"
   ]
  },
  {
   "cell_type": "code",
   "execution_count": null,
   "id": "948d450a",
   "metadata": {
    "executionInfo": {
     "elapsed": 5,
     "status": "aborted",
     "timestamp": 1668324333795,
     "user": {
      "displayName": "高柳みつき",
      "userId": "12829001157660861276"
     },
     "user_tz": -540
    },
    "id": "948d450a"
   },
   "outputs": [],
   "source": []
  },
  {
   "cell_type": "code",
   "execution_count": null,
   "id": "f5561711",
   "metadata": {
    "executionInfo": {
     "elapsed": 5,
     "status": "aborted",
     "timestamp": 1668324333795,
     "user": {
      "displayName": "高柳みつき",
      "userId": "12829001157660861276"
     },
     "user_tz": -540
    },
    "id": "f5561711"
   },
   "outputs": [],
   "source": []
  }
 ],
 "metadata": {
  "colab": {
   "collapsed_sections": [],
   "provenance": []
  },
  "kernelspec": {
   "display_name": "Python 3 (ipykernel)",
   "language": "python",
   "name": "python3"
  },
  "language_info": {
   "codemirror_mode": {
    "name": "ipython",
    "version": 3
   },
   "file_extension": ".py",
   "mimetype": "text/x-python",
   "name": "python",
   "nbconvert_exporter": "python",
   "pygments_lexer": "ipython3",
   "version": "3.10.7"
  }
 },
 "nbformat": 4,
 "nbformat_minor": 5
}
